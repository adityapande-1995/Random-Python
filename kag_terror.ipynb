{
 "cells": [
  {
   "cell_type": "code",
   "execution_count": 1,
   "metadata": {},
   "outputs": [
    {
     "name": "stdout",
     "output_type": "stream",
     "text": [
      "1.ipynb\n",
      "dataset.zip\n",
      "globalterrorismdb_0616dist.csv\n",
      "Untitled.ipynb\n",
      "\n"
     ]
    }
   ],
   "source": [
    "import numpy as np\n",
    "import pandas as pd\n",
    "import matplotlib.pyplot as plt\n",
    "import seaborn as sns\n",
    "\n",
    "from subprocess import check_output\n",
    "print(check_output([\"ls\", \"./\"]).decode(\"utf8\"))\n"
   ]
  },
  {
   "cell_type": "code",
   "execution_count": 2,
   "metadata": {},
   "outputs": [
    {
     "name": "stderr",
     "output_type": "stream",
     "text": [
      "/home/aditya/cv4/lib/python3.6/site-packages/IPython/core/interactiveshell.py:3044: DtypeWarning: Columns (4,61,62,66,116,117,123) have mixed types. Specify dtype option on import or set low_memory=False.\n",
      "  interactivity=interactivity, compiler=compiler, result=result)\n"
     ]
    }
   ],
   "source": [
    "data=pd.read_csv('./globalterrorismdb_0616dist.csv',encoding='ISO-8859-1')"
   ]
  },
  {
   "cell_type": "code",
   "execution_count": 4,
   "metadata": {},
   "outputs": [
    {
     "name": "stdout",
     "output_type": "stream",
     "text": [
      "<class 'pandas.core.frame.DataFrame'>\n",
      "RangeIndex: 156772 entries, 0 to 156771\n",
      "Columns: 137 entries, eventid to related\n",
      "dtypes: float64(55), int64(24), object(58)\n",
      "memory usage: 163.9+ MB\n"
     ]
    }
   ],
   "source": [
    "data.info()"
   ]
  },
  {
   "cell_type": "code",
   "execution_count": 5,
   "metadata": {},
   "outputs": [
    {
     "data": {
      "text/html": [
       "<div>\n",
       "<style scoped>\n",
       "    .dataframe tbody tr th:only-of-type {\n",
       "        vertical-align: middle;\n",
       "    }\n",
       "\n",
       "    .dataframe tbody tr th {\n",
       "        vertical-align: top;\n",
       "    }\n",
       "\n",
       "    .dataframe thead th {\n",
       "        text-align: right;\n",
       "    }\n",
       "</style>\n",
       "<table border=\"1\" class=\"dataframe\">\n",
       "  <thead>\n",
       "    <tr style=\"text-align: right;\">\n",
       "      <th></th>\n",
       "      <th>eventid</th>\n",
       "      <th>iyear</th>\n",
       "      <th>imonth</th>\n",
       "      <th>iday</th>\n",
       "      <th>extended</th>\n",
       "      <th>country</th>\n",
       "      <th>region</th>\n",
       "      <th>latitude</th>\n",
       "      <th>longitude</th>\n",
       "      <th>specificity</th>\n",
       "      <th>...</th>\n",
       "      <th>ransomamt</th>\n",
       "      <th>ransomamtus</th>\n",
       "      <th>ransompaid</th>\n",
       "      <th>ransompaidus</th>\n",
       "      <th>hostkidoutcome</th>\n",
       "      <th>nreleased</th>\n",
       "      <th>INT_LOG</th>\n",
       "      <th>INT_IDEO</th>\n",
       "      <th>INT_MISC</th>\n",
       "      <th>INT_ANY</th>\n",
       "    </tr>\n",
       "  </thead>\n",
       "  <tbody>\n",
       "    <tr>\n",
       "      <th>eventid</th>\n",
       "      <td>1.000000</td>\n",
       "      <td>0.999996</td>\n",
       "      <td>0.010742</td>\n",
       "      <td>0.015943</td>\n",
       "      <td>0.088933</td>\n",
       "      <td>-0.144918</td>\n",
       "      <td>0.391129</td>\n",
       "      <td>0.172221</td>\n",
       "      <td>0.553091</td>\n",
       "      <td>0.029533</td>\n",
       "      <td>...</td>\n",
       "      <td>-0.002849</td>\n",
       "      <td>-0.000461</td>\n",
       "      <td>-0.169650</td>\n",
       "      <td>-0.172339</td>\n",
       "      <td>0.292161</td>\n",
       "      <td>-0.228536</td>\n",
       "      <td>-0.234006</td>\n",
       "      <td>-0.231593</td>\n",
       "      <td>-0.077012</td>\n",
       "      <td>-0.266880</td>\n",
       "    </tr>\n",
       "    <tr>\n",
       "      <th>iyear</th>\n",
       "      <td>0.999996</td>\n",
       "      <td>1.000000</td>\n",
       "      <td>0.008121</td>\n",
       "      <td>0.015863</td>\n",
       "      <td>0.088923</td>\n",
       "      <td>-0.144894</td>\n",
       "      <td>0.391142</td>\n",
       "      <td>0.172276</td>\n",
       "      <td>0.553111</td>\n",
       "      <td>0.029520</td>\n",
       "      <td>...</td>\n",
       "      <td>-0.002849</td>\n",
       "      <td>-0.000810</td>\n",
       "      <td>-0.169685</td>\n",
       "      <td>-0.172205</td>\n",
       "      <td>0.292178</td>\n",
       "      <td>-0.228479</td>\n",
       "      <td>-0.234008</td>\n",
       "      <td>-0.231594</td>\n",
       "      <td>-0.077005</td>\n",
       "      <td>-0.266873</td>\n",
       "    </tr>\n",
       "    <tr>\n",
       "      <th>imonth</th>\n",
       "      <td>0.010742</td>\n",
       "      <td>0.008121</td>\n",
       "      <td>1.000000</td>\n",
       "      <td>0.005991</td>\n",
       "      <td>0.001373</td>\n",
       "      <td>-0.010570</td>\n",
       "      <td>0.000373</td>\n",
       "      <td>-0.015947</td>\n",
       "      <td>-0.002298</td>\n",
       "      <td>0.002434</td>\n",
       "      <td>...</td>\n",
       "      <td>-0.001223</td>\n",
       "      <td>0.066517</td>\n",
       "      <td>0.003506</td>\n",
       "      <td>-0.026813</td>\n",
       "      <td>0.016789</td>\n",
       "      <td>-0.025079</td>\n",
       "      <td>-0.003909</td>\n",
       "      <td>-0.003617</td>\n",
       "      <td>-0.003490</td>\n",
       "      <td>-0.007883</td>\n",
       "    </tr>\n",
       "    <tr>\n",
       "      <th>iday</th>\n",
       "      <td>0.015943</td>\n",
       "      <td>0.015863</td>\n",
       "      <td>0.005991</td>\n",
       "      <td>1.000000</td>\n",
       "      <td>-0.005025</td>\n",
       "      <td>0.005227</td>\n",
       "      <td>0.008863</td>\n",
       "      <td>0.001889</td>\n",
       "      <td>0.011761</td>\n",
       "      <td>-0.011166</td>\n",
       "      <td>...</td>\n",
       "      <td>0.014616</td>\n",
       "      <td>0.006333</td>\n",
       "      <td>0.005583</td>\n",
       "      <td>0.003025</td>\n",
       "      <td>0.002198</td>\n",
       "      <td>0.006538</td>\n",
       "      <td>-0.007560</td>\n",
       "      <td>-0.007982</td>\n",
       "      <td>-0.002237</td>\n",
       "      <td>-0.007191</td>\n",
       "    </tr>\n",
       "    <tr>\n",
       "      <th>extended</th>\n",
       "      <td>0.088933</td>\n",
       "      <td>0.088923</td>\n",
       "      <td>0.001373</td>\n",
       "      <td>-0.005025</td>\n",
       "      <td>1.000000</td>\n",
       "      <td>-0.026851</td>\n",
       "      <td>0.032504</td>\n",
       "      <td>-0.019201</td>\n",
       "      <td>0.037165</td>\n",
       "      <td>0.054347</td>\n",
       "      <td>...</td>\n",
       "      <td>-0.005537</td>\n",
       "      <td>0.033104</td>\n",
       "      <td>-0.047390</td>\n",
       "      <td>0.016856</td>\n",
       "      <td>0.175605</td>\n",
       "      <td>-0.185049</td>\n",
       "      <td>0.050541</td>\n",
       "      <td>0.053485</td>\n",
       "      <td>0.030440</td>\n",
       "      <td>0.064947</td>\n",
       "    </tr>\n",
       "  </tbody>\n",
       "</table>\n",
       "<p>5 rows × 79 columns</p>\n",
       "</div>"
      ],
      "text/plain": [
       "           eventid     iyear    imonth      iday  extended   country  \\\n",
       "eventid   1.000000  0.999996  0.010742  0.015943  0.088933 -0.144918   \n",
       "iyear     0.999996  1.000000  0.008121  0.015863  0.088923 -0.144894   \n",
       "imonth    0.010742  0.008121  1.000000  0.005991  0.001373 -0.010570   \n",
       "iday      0.015943  0.015863  0.005991  1.000000 -0.005025  0.005227   \n",
       "extended  0.088933  0.088923  0.001373 -0.005025  1.000000 -0.026851   \n",
       "\n",
       "            region  latitude  longitude  specificity    ...     ransomamt  \\\n",
       "eventid   0.391129  0.172221   0.553091     0.029533    ...     -0.002849   \n",
       "iyear     0.391142  0.172276   0.553111     0.029520    ...     -0.002849   \n",
       "imonth    0.000373 -0.015947  -0.002298     0.002434    ...     -0.001223   \n",
       "iday      0.008863  0.001889   0.011761    -0.011166    ...      0.014616   \n",
       "extended  0.032504 -0.019201   0.037165     0.054347    ...     -0.005537   \n",
       "\n",
       "          ransomamtus  ransompaid  ransompaidus  hostkidoutcome  nreleased  \\\n",
       "eventid     -0.000461   -0.169650     -0.172339        0.292161  -0.228536   \n",
       "iyear       -0.000810   -0.169685     -0.172205        0.292178  -0.228479   \n",
       "imonth       0.066517    0.003506     -0.026813        0.016789  -0.025079   \n",
       "iday         0.006333    0.005583      0.003025        0.002198   0.006538   \n",
       "extended     0.033104   -0.047390      0.016856        0.175605  -0.185049   \n",
       "\n",
       "           INT_LOG  INT_IDEO  INT_MISC   INT_ANY  \n",
       "eventid  -0.234006 -0.231593 -0.077012 -0.266880  \n",
       "iyear    -0.234008 -0.231594 -0.077005 -0.266873  \n",
       "imonth   -0.003909 -0.003617 -0.003490 -0.007883  \n",
       "iday     -0.007560 -0.007982 -0.002237 -0.007191  \n",
       "extended  0.050541  0.053485  0.030440  0.064947  \n",
       "\n",
       "[5 rows x 79 columns]"
      ]
     },
     "execution_count": 5,
     "metadata": {},
     "output_type": "execute_result"
    }
   ],
   "source": [
    "data.corr().head()"
   ]
  },
  {
   "cell_type": "code",
   "execution_count": 6,
   "metadata": {},
   "outputs": [
    {
     "data": {
      "text/plain": [
       "Index(['eventid', 'iyear', 'imonth', 'iday', 'approxdate', 'extended',\n",
       "       'resolution', 'country', 'country_txt', 'region',\n",
       "       ...\n",
       "       'addnotes', 'scite1', 'scite2', 'scite3', 'dbsource', 'INT_LOG',\n",
       "       'INT_IDEO', 'INT_MISC', 'INT_ANY', 'related'],\n",
       "      dtype='object', length=137)"
      ]
     },
     "execution_count": 6,
     "metadata": {},
     "output_type": "execute_result"
    }
   ],
   "source": [
    "data.columns"
   ]
  },
  {
   "cell_type": "code",
   "execution_count": 3,
   "metadata": {},
   "outputs": [
    {
     "data": {
      "text/html": [
       "<div>\n",
       "<style scoped>\n",
       "    .dataframe tbody tr th:only-of-type {\n",
       "        vertical-align: middle;\n",
       "    }\n",
       "\n",
       "    .dataframe tbody tr th {\n",
       "        vertical-align: top;\n",
       "    }\n",
       "\n",
       "    .dataframe thead th {\n",
       "        text-align: right;\n",
       "    }\n",
       "</style>\n",
       "<table border=\"1\" class=\"dataframe\">\n",
       "  <thead>\n",
       "    <tr style=\"text-align: right;\">\n",
       "      <th></th>\n",
       "      <th>eventid</th>\n",
       "      <th>Year</th>\n",
       "      <th>Month</th>\n",
       "      <th>Day</th>\n",
       "      <th>approxdate</th>\n",
       "      <th>extended</th>\n",
       "      <th>resolution</th>\n",
       "      <th>country</th>\n",
       "      <th>Country</th>\n",
       "      <th>region</th>\n",
       "      <th>...</th>\n",
       "      <th>addnotes</th>\n",
       "      <th>scite1</th>\n",
       "      <th>scite2</th>\n",
       "      <th>scite3</th>\n",
       "      <th>dbsource</th>\n",
       "      <th>INT_LOG</th>\n",
       "      <th>INT_IDEO</th>\n",
       "      <th>INT_MISC</th>\n",
       "      <th>INT_ANY</th>\n",
       "      <th>related</th>\n",
       "    </tr>\n",
       "  </thead>\n",
       "  <tbody>\n",
       "    <tr>\n",
       "      <th>0</th>\n",
       "      <td>197000000001</td>\n",
       "      <td>1970</td>\n",
       "      <td>0</td>\n",
       "      <td>0</td>\n",
       "      <td>NaN</td>\n",
       "      <td>0</td>\n",
       "      <td>NaN</td>\n",
       "      <td>58</td>\n",
       "      <td>Dominican Republic</td>\n",
       "      <td>2</td>\n",
       "      <td>...</td>\n",
       "      <td>NaN</td>\n",
       "      <td>NaN</td>\n",
       "      <td>NaN</td>\n",
       "      <td>NaN</td>\n",
       "      <td>PGIS</td>\n",
       "      <td>0</td>\n",
       "      <td>0</td>\n",
       "      <td>0</td>\n",
       "      <td>0</td>\n",
       "      <td>NaN</td>\n",
       "    </tr>\n",
       "    <tr>\n",
       "      <th>1</th>\n",
       "      <td>197000000002</td>\n",
       "      <td>1970</td>\n",
       "      <td>0</td>\n",
       "      <td>0</td>\n",
       "      <td>NaN</td>\n",
       "      <td>0</td>\n",
       "      <td>NaN</td>\n",
       "      <td>130</td>\n",
       "      <td>Mexico</td>\n",
       "      <td>1</td>\n",
       "      <td>...</td>\n",
       "      <td>NaN</td>\n",
       "      <td>NaN</td>\n",
       "      <td>NaN</td>\n",
       "      <td>NaN</td>\n",
       "      <td>PGIS</td>\n",
       "      <td>0</td>\n",
       "      <td>1</td>\n",
       "      <td>1</td>\n",
       "      <td>1</td>\n",
       "      <td>NaN</td>\n",
       "    </tr>\n",
       "    <tr>\n",
       "      <th>2</th>\n",
       "      <td>197001000001</td>\n",
       "      <td>1970</td>\n",
       "      <td>1</td>\n",
       "      <td>0</td>\n",
       "      <td>NaN</td>\n",
       "      <td>0</td>\n",
       "      <td>NaN</td>\n",
       "      <td>160</td>\n",
       "      <td>Philippines</td>\n",
       "      <td>5</td>\n",
       "      <td>...</td>\n",
       "      <td>NaN</td>\n",
       "      <td>NaN</td>\n",
       "      <td>NaN</td>\n",
       "      <td>NaN</td>\n",
       "      <td>PGIS</td>\n",
       "      <td>-9</td>\n",
       "      <td>-9</td>\n",
       "      <td>1</td>\n",
       "      <td>1</td>\n",
       "      <td>NaN</td>\n",
       "    </tr>\n",
       "    <tr>\n",
       "      <th>3</th>\n",
       "      <td>197001000002</td>\n",
       "      <td>1970</td>\n",
       "      <td>1</td>\n",
       "      <td>0</td>\n",
       "      <td>NaN</td>\n",
       "      <td>0</td>\n",
       "      <td>NaN</td>\n",
       "      <td>78</td>\n",
       "      <td>Greece</td>\n",
       "      <td>8</td>\n",
       "      <td>...</td>\n",
       "      <td>NaN</td>\n",
       "      <td>NaN</td>\n",
       "      <td>NaN</td>\n",
       "      <td>NaN</td>\n",
       "      <td>PGIS</td>\n",
       "      <td>-9</td>\n",
       "      <td>-9</td>\n",
       "      <td>1</td>\n",
       "      <td>1</td>\n",
       "      <td>NaN</td>\n",
       "    </tr>\n",
       "    <tr>\n",
       "      <th>4</th>\n",
       "      <td>197001000003</td>\n",
       "      <td>1970</td>\n",
       "      <td>1</td>\n",
       "      <td>0</td>\n",
       "      <td>NaN</td>\n",
       "      <td>0</td>\n",
       "      <td>NaN</td>\n",
       "      <td>101</td>\n",
       "      <td>Japan</td>\n",
       "      <td>4</td>\n",
       "      <td>...</td>\n",
       "      <td>NaN</td>\n",
       "      <td>NaN</td>\n",
       "      <td>NaN</td>\n",
       "      <td>NaN</td>\n",
       "      <td>PGIS</td>\n",
       "      <td>-9</td>\n",
       "      <td>-9</td>\n",
       "      <td>1</td>\n",
       "      <td>1</td>\n",
       "      <td>NaN</td>\n",
       "    </tr>\n",
       "  </tbody>\n",
       "</table>\n",
       "<p>5 rows × 137 columns</p>\n",
       "</div>"
      ],
      "text/plain": [
       "        eventid  Year  Month  Day approxdate  extended resolution  country  \\\n",
       "0  197000000001  1970      0    0        NaN         0        NaN       58   \n",
       "1  197000000002  1970      0    0        NaN         0        NaN      130   \n",
       "2  197001000001  1970      1    0        NaN         0        NaN      160   \n",
       "3  197001000002  1970      1    0        NaN         0        NaN       78   \n",
       "4  197001000003  1970      1    0        NaN         0        NaN      101   \n",
       "\n",
       "              Country  region   ...    addnotes scite1 scite2  scite3  \\\n",
       "0  Dominican Republic       2   ...         NaN    NaN    NaN     NaN   \n",
       "1              Mexico       1   ...         NaN    NaN    NaN     NaN   \n",
       "2         Philippines       5   ...         NaN    NaN    NaN     NaN   \n",
       "3              Greece       8   ...         NaN    NaN    NaN     NaN   \n",
       "4               Japan       4   ...         NaN    NaN    NaN     NaN   \n",
       "\n",
       "   dbsource  INT_LOG  INT_IDEO INT_MISC INT_ANY  related  \n",
       "0      PGIS        0         0        0       0      NaN  \n",
       "1      PGIS        0         1        1       1      NaN  \n",
       "2      PGIS       -9        -9        1       1      NaN  \n",
       "3      PGIS       -9        -9        1       1      NaN  \n",
       "4      PGIS       -9        -9        1       1      NaN  \n",
       "\n",
       "[5 rows x 137 columns]"
      ]
     },
     "execution_count": 3,
     "metadata": {},
     "output_type": "execute_result"
    }
   ],
   "source": [
    "data.rename(columns={'iyear':'Year','imonth':'Month','iday':'Day','country_txt':'Country','region_txt':'Region','attacktype1_txt':'AttackType','target1':'Target','nkill':'Killed','nwound':'Wounded','summary':'Summary','gname':'Group','targtype1_txt':'Target_type','weaptype1_txt':'Weapon_type','motive':'Motive'},inplace=True)\n",
    "data.head()"
   ]
  },
  {
   "cell_type": "code",
   "execution_count": 8,
   "metadata": {},
   "outputs": [
    {
     "data": {
      "text/plain": [
       "eventid                    0\n",
       "Year                       0\n",
       "Month                      0\n",
       "Day                        0\n",
       "approxdate            152016\n",
       "extended                   0\n",
       "resolution            153270\n",
       "country                    0\n",
       "Country                    0\n",
       "region                     0\n",
       "Region                     0\n",
       "provstate              14520\n",
       "city                     446\n",
       "latitude                4519\n",
       "longitude               4519\n",
       "specificity                0\n",
       "vicinity                   0\n",
       "location              114561\n",
       "Summary                66140\n",
       "crit1                      0\n",
       "crit2                      0\n",
       "crit3                      0\n",
       "doubtterr                  1\n",
       "alternative           132536\n",
       "alternative_txt            0\n",
       "multiple                   0\n",
       "success                    0\n",
       "suicide                    0\n",
       "attacktype1                0\n",
       "AttackType                 0\n",
       "                       ...  \n",
       "propextent            100420\n",
       "propextent_txt             0\n",
       "propvalue             125460\n",
       "propcomment           107350\n",
       "ishostkid                178\n",
       "nhostkid              145504\n",
       "nhostkidus            145559\n",
       "nhours                153470\n",
       "ndays                 150190\n",
       "divert                156483\n",
       "kidhijcountry         153482\n",
       "ransom                 81680\n",
       "ransomamt             155577\n",
       "ransomamtus           156361\n",
       "ransompaid            156149\n",
       "ransompaidus          156370\n",
       "ransomnote            156351\n",
       "hostkidoutcome        148087\n",
       "hostkidoutcome_txt         0\n",
       "nreleased             148677\n",
       "addnotes              134848\n",
       "scite1                 66330\n",
       "scite2                 95611\n",
       "scite3                122640\n",
       "dbsource                   0\n",
       "INT_LOG                    0\n",
       "INT_IDEO                   0\n",
       "INT_MISC                   0\n",
       "INT_ANY                    0\n",
       "related               136350\n",
       "Length: 137, dtype: int64"
      ]
     },
     "execution_count": 8,
     "metadata": {},
     "output_type": "execute_result"
    }
   ],
   "source": [
    "data.isnull().sum()"
   ]
  },
  {
   "cell_type": "code",
   "execution_count": 4,
   "metadata": {},
   "outputs": [
    {
     "data": {
      "text/html": [
       "<div>\n",
       "<style scoped>\n",
       "    .dataframe tbody tr th:only-of-type {\n",
       "        vertical-align: middle;\n",
       "    }\n",
       "\n",
       "    .dataframe tbody tr th {\n",
       "        vertical-align: top;\n",
       "    }\n",
       "\n",
       "    .dataframe thead th {\n",
       "        text-align: right;\n",
       "    }\n",
       "</style>\n",
       "<table border=\"1\" class=\"dataframe\">\n",
       "  <thead>\n",
       "    <tr style=\"text-align: right;\">\n",
       "      <th></th>\n",
       "      <th>Year</th>\n",
       "      <th>Month</th>\n",
       "      <th>Day</th>\n",
       "      <th>Country</th>\n",
       "      <th>Region</th>\n",
       "      <th>city</th>\n",
       "      <th>latitude</th>\n",
       "      <th>longitude</th>\n",
       "      <th>AttackType</th>\n",
       "      <th>Killed</th>\n",
       "      <th>Wounded</th>\n",
       "      <th>Target</th>\n",
       "      <th>Summary</th>\n",
       "      <th>Group</th>\n",
       "      <th>Target_type</th>\n",
       "      <th>Weapon_type</th>\n",
       "      <th>Motive</th>\n",
       "    </tr>\n",
       "  </thead>\n",
       "  <tbody>\n",
       "    <tr>\n",
       "      <th>0</th>\n",
       "      <td>1970</td>\n",
       "      <td>0</td>\n",
       "      <td>0</td>\n",
       "      <td>Dominican Republic</td>\n",
       "      <td>Central America &amp; Caribbean</td>\n",
       "      <td>Santo Domingo</td>\n",
       "      <td>18.456792</td>\n",
       "      <td>-69.951164</td>\n",
       "      <td>Assassination</td>\n",
       "      <td>1.0</td>\n",
       "      <td>0.0</td>\n",
       "      <td>Julio Guzman</td>\n",
       "      <td>NaN</td>\n",
       "      <td>MANO-D</td>\n",
       "      <td>Private Citizens &amp; Property</td>\n",
       "      <td>Unknown</td>\n",
       "      <td>NaN</td>\n",
       "    </tr>\n",
       "    <tr>\n",
       "      <th>1</th>\n",
       "      <td>1970</td>\n",
       "      <td>0</td>\n",
       "      <td>0</td>\n",
       "      <td>Mexico</td>\n",
       "      <td>North America</td>\n",
       "      <td>Mexico city</td>\n",
       "      <td>19.432608</td>\n",
       "      <td>-99.133207</td>\n",
       "      <td>Hostage Taking (Kidnapping)</td>\n",
       "      <td>0.0</td>\n",
       "      <td>0.0</td>\n",
       "      <td>Nadine Chaval, daughter</td>\n",
       "      <td>NaN</td>\n",
       "      <td>23rd of September Communist League</td>\n",
       "      <td>Government (Diplomatic)</td>\n",
       "      <td>Unknown</td>\n",
       "      <td>NaN</td>\n",
       "    </tr>\n",
       "    <tr>\n",
       "      <th>2</th>\n",
       "      <td>1970</td>\n",
       "      <td>1</td>\n",
       "      <td>0</td>\n",
       "      <td>Philippines</td>\n",
       "      <td>Southeast Asia</td>\n",
       "      <td>Unknown</td>\n",
       "      <td>15.478598</td>\n",
       "      <td>120.599741</td>\n",
       "      <td>Assassination</td>\n",
       "      <td>1.0</td>\n",
       "      <td>0.0</td>\n",
       "      <td>Employee</td>\n",
       "      <td>NaN</td>\n",
       "      <td>Unknown</td>\n",
       "      <td>Journalists &amp; Media</td>\n",
       "      <td>Unknown</td>\n",
       "      <td>NaN</td>\n",
       "    </tr>\n",
       "    <tr>\n",
       "      <th>3</th>\n",
       "      <td>1970</td>\n",
       "      <td>1</td>\n",
       "      <td>0</td>\n",
       "      <td>Greece</td>\n",
       "      <td>Western Europe</td>\n",
       "      <td>Athens</td>\n",
       "      <td>37.983773</td>\n",
       "      <td>23.728157</td>\n",
       "      <td>Bombing/Explosion</td>\n",
       "      <td>NaN</td>\n",
       "      <td>NaN</td>\n",
       "      <td>U.S. Embassy</td>\n",
       "      <td>NaN</td>\n",
       "      <td>Unknown</td>\n",
       "      <td>Government (Diplomatic)</td>\n",
       "      <td>Explosives/Bombs/Dynamite</td>\n",
       "      <td>NaN</td>\n",
       "    </tr>\n",
       "    <tr>\n",
       "      <th>4</th>\n",
       "      <td>1970</td>\n",
       "      <td>1</td>\n",
       "      <td>0</td>\n",
       "      <td>Japan</td>\n",
       "      <td>East Asia</td>\n",
       "      <td>Fukouka</td>\n",
       "      <td>33.580412</td>\n",
       "      <td>130.396361</td>\n",
       "      <td>Facility/Infrastructure Attack</td>\n",
       "      <td>NaN</td>\n",
       "      <td>NaN</td>\n",
       "      <td>U.S. Consulate</td>\n",
       "      <td>NaN</td>\n",
       "      <td>Unknown</td>\n",
       "      <td>Government (Diplomatic)</td>\n",
       "      <td>Incendiary</td>\n",
       "      <td>NaN</td>\n",
       "    </tr>\n",
       "  </tbody>\n",
       "</table>\n",
       "</div>"
      ],
      "text/plain": [
       "   Year  Month  Day             Country                       Region  \\\n",
       "0  1970      0    0  Dominican Republic  Central America & Caribbean   \n",
       "1  1970      0    0              Mexico                North America   \n",
       "2  1970      1    0         Philippines               Southeast Asia   \n",
       "3  1970      1    0              Greece               Western Europe   \n",
       "4  1970      1    0               Japan                    East Asia   \n",
       "\n",
       "            city   latitude   longitude                      AttackType  \\\n",
       "0  Santo Domingo  18.456792  -69.951164                   Assassination   \n",
       "1    Mexico city  19.432608  -99.133207     Hostage Taking (Kidnapping)   \n",
       "2        Unknown  15.478598  120.599741                   Assassination   \n",
       "3         Athens  37.983773   23.728157               Bombing/Explosion   \n",
       "4        Fukouka  33.580412  130.396361  Facility/Infrastructure Attack   \n",
       "\n",
       "   Killed  Wounded                   Target Summary  \\\n",
       "0     1.0      0.0             Julio Guzman     NaN   \n",
       "1     0.0      0.0  Nadine Chaval, daughter     NaN   \n",
       "2     1.0      0.0                 Employee     NaN   \n",
       "3     NaN      NaN             U.S. Embassy     NaN   \n",
       "4     NaN      NaN           U.S. Consulate     NaN   \n",
       "\n",
       "                                Group                  Target_type  \\\n",
       "0                              MANO-D  Private Citizens & Property   \n",
       "1  23rd of September Communist League      Government (Diplomatic)   \n",
       "2                             Unknown          Journalists & Media   \n",
       "3                             Unknown      Government (Diplomatic)   \n",
       "4                             Unknown      Government (Diplomatic)   \n",
       "\n",
       "                 Weapon_type Motive  \n",
       "0                    Unknown    NaN  \n",
       "1                    Unknown    NaN  \n",
       "2                    Unknown    NaN  \n",
       "3  Explosives/Bombs/Dynamite    NaN  \n",
       "4                 Incendiary    NaN  "
      ]
     },
     "execution_count": 4,
     "metadata": {},
     "output_type": "execute_result"
    }
   ],
   "source": [
    "data1=data[['Year','Month','Day','Country','Region','city','latitude','longitude','AttackType','Killed','Wounded','Target','Summary','Group','Target_type','Weapon_type','Motive']]\n",
    "data1.head()"
   ]
  },
  {
   "cell_type": "code",
   "execution_count": 10,
   "metadata": {
    "scrolled": true
   },
   "outputs": [
    {
     "data": {
      "image/png": "[encoded data removed]",
      "text/plain": [
       "<Figure size 1800x1296 with 2 Axes>"
      ]
     },
     "metadata": {
      "needs_background": "light"
     },
     "output_type": "display_data"
    }
   ],
   "source": [
    "f,ax = plt.subplots(figsize=(25, 18))\n",
    "sns.heatmap(data1.corr(), annot=True, linewidths=.5, fmt= '.1f',ax=ax)\n",
    "plt.show()"
   ]
  },
  {
   "cell_type": "code",
   "execution_count": 15,
   "metadata": {
    "scrolled": true
   },
   "outputs": [
    {
     "data": {
      "text/plain": [
       "Unknown                                             71922\n",
       "Taliban                                              5502\n",
       "Shining Path (SL)                                    4548\n",
       "Farabundo Marti National Liberation Front (FMLN)     3351\n",
       "Islamic State of Iraq and the Levant (ISIL)          2833\n",
       "Irish Republican Army (IRA)                          2670\n",
       "Revolutionary Armed Forces of Colombia (FARC)        2474\n",
       "New People's Army (NPA)                              2241\n",
       "Al-Shabaab                                           2127\n",
       "Basque Fatherland and Freedom (ETA)                  2024\n",
       "Boko Haram                                           1839\n",
       "Name: Group, dtype: int64"
      ]
     },
     "execution_count": 15,
     "metadata": {},
     "output_type": "execute_result"
    }
   ],
   "source": [
    "data['Group'].value_counts().head(11) # Top groups"
   ]
  },
  {
   "cell_type": "code",
   "execution_count": 16,
   "metadata": {},
   "outputs": [
    {
     "data": {
      "text/plain": [
       "Iraq           18770\n",
       "Pakistan       12768\n",
       "India           9940\n",
       "Afghanistan     9690\n",
       "Colombia        8077\n",
       "Name: Country, dtype: int64"
      ]
     },
     "execution_count": 16,
     "metadata": {},
     "output_type": "execute_result"
    }
   ],
   "source": [
    "data1['Country'].value_counts().head()"
   ]
  },
  {
   "cell_type": "code",
   "execution_count": 17,
   "metadata": {},
   "outputs": [
    {
     "data": {
      "text/plain": [
       "Middle East & North Africa    40422\n",
       "South Asia                    37841\n",
       "South America                 18628\n",
       "Western Europe                16020\n",
       "Sub-Saharan Africa            13434\n",
       "Name: Region, dtype: int64"
      ]
     },
     "execution_count": 17,
     "metadata": {},
     "output_type": "execute_result"
    }
   ],
   "source": [
    "data1['Region'].value_counts().head()"
   ]
  },
  {
   "cell_type": "code",
   "execution_count": 19,
   "metadata": {},
   "outputs": [
    {
     "name": "stdout",
     "output_type": "stream",
     "text": [
      "Maximum people killed in an attack are:  1500.0 \n",
      "Country: Iraq\n",
      "Minimum people killed in an attack are:  0.0 \n",
      "Country: Mexico\n"
     ]
    }
   ],
   "source": [
    "print('Maximum people killed in an attack are: ',data1['Killed'].max(),'\\nCountry:',data1.loc[data1['Killed'].idxmax()].Country)\n",
    "print('Minimum people killed in an attack are: ',data1['Killed'].min(),'\\nCountry:',data1.loc[data1['Killed'].idxmin()].Country) "
   ]
  },
  {
   "cell_type": "code",
   "execution_count": 20,
   "metadata": {
    "scrolled": true
   },
   "outputs": [
    {
     "data": {
      "image/png": "[encoded data removed]",
      "text/plain": [
       "<Figure size 432x288 with 1 Axes>"
      ]
     },
     "metadata": {
      "needs_background": "light"
     },
     "output_type": "display_data"
    }
   ],
   "source": [
    "#Line Plot\n",
    "data1.Killed.plot(kind='line',color='g',label='Killed',linewidth=1,alpha = 0.5,grid = True,linestyle = ':')\n",
    "data1.Wounded.plot(color = 'r',label = 'Wounded',linewidth=1, alpha = 0.5,grid = True,linestyle = '-.')\n",
    "plt.legend(loc='upper right')     # legend = puts label into plot\n",
    "plt.xlabel('x axis')              # label = name of label\n",
    "plt.ylabel('y axis')\n",
    "plt.title('Line Plot')            # title = title of plot\n",
    "plt.show()"
   ]
  },
  {
   "cell_type": "code",
   "execution_count": 21,
   "metadata": {},
   "outputs": [
    {
     "data": {
      "text/plain": [
       "<matplotlib.axes._subplots.AxesSubplot at 0x7efff22a5940>"
      ]
     },
     "execution_count": 21,
     "metadata": {},
     "output_type": "execute_result"
    },
    {
     "data": {
      "image/png": "[encoded data removed]",
      "text/plain": [
       "<Figure size 432x288 with 1 Axes>"
      ]
     },
     "metadata": {
      "needs_background": "light"
     },
     "output_type": "display_data"
    }
   ],
   "source": [
    "data1.Killed.plot(kind = 'hist',bins = 13,range= (0,13))"
   ]
  },
  {
   "cell_type": "code",
   "execution_count": 14,
   "metadata": {},
   "outputs": [
    {
     "data": {
      "image/png": "[encoded data removed]",
      "text/plain": [
       "<Figure size 720x504 with 1 Axes>"
      ]
     },
     "metadata": {
      "needs_background": "light"
     },
     "output_type": "display_data"
    }
   ],
   "source": [
    "#Number Of Terrorist Activities By Region\n",
    "plt.subplots(figsize=(10,7))\n",
    "sns.countplot('Region',data=data,palette='PRGn',edgecolor=sns.color_palette('dark',7),order=data['Region'].value_counts().index)\n",
    "plt.xticks(rotation=30)\n",
    "plt.title('Number Of Terrorist Activities By Region')\n",
    "plt.show()"
   ]
  },
  {
   "cell_type": "code",
   "execution_count": 20,
   "metadata": {},
   "outputs": [
    {
     "data": {
      "image/png": "[encoded data removed]",
      "text/plain": [
       "<Figure size 1080x504 with 1 Axes>"
      ]
     },
     "metadata": {
      "needs_background": "light"
     },
     "output_type": "display_data"
    }
   ],
   "source": [
    "#\n",
    "data1.head()\n",
    "plt.subplots(figsize=(15,7))\n",
    "sns.countplot('Country', data=data1, order=data1['Country'].value_counts()[:10].index)\n",
    "plt.title('Terrorist activities sorted country wise')\n",
    "plt.show()"
   ]
  },
  {
   "cell_type": "code",
   "execution_count": 26,
   "metadata": {},
   "outputs": [
    {
     "data": {
      "image/png": "[encoded data removed]",
      "text/plain": [
       "<Figure size 1080x504 with 1 Axes>"
      ]
     },
     "metadata": {
      "needs_background": "light"
     },
     "output_type": "display_data"
    }
   ],
   "source": [
    "data1.head()\n",
    "plt.subplots(figsize=(15,7))\n",
    "sns.countplot('Year', data=data1, order=data1['Year'].value_counts()[:10].index)\n",
    "plt.title('Terrorist activities sorted country wise')\n",
    "plt.show()"
   ]
  },
  {
   "cell_type": "code",
   "execution_count": 41,
   "metadata": {},
   "outputs": [
    {
     "data": {
      "image/png": "[encoded data removed]",
      "text/plain": [
       "<Figure size 432x288 with 1 Axes>"
      ]
     },
     "metadata": {
      "needs_background": "light"
     },
     "output_type": "display_data"
    }
   ],
   "source": [
    "filter = data1['Country'] == \"India\"\n",
    "d = data1[filter]\n",
    "d = d['Year'].value_counts()[:20]\n",
    "d.sort_index(ascending=True, inplace=True)\n",
    "d.plot(kind='bar')\n",
    "plt.show()"
   ]
  },
  {
   "cell_type": "code",
   "execution_count": 44,
   "metadata": {},
   "outputs": [
    {
     "data": {
      "image/png": "[encoded data removed]",
      "text/plain": [
       "<Figure size 432x288 with 1 Axes>"
      ]
     },
     "metadata": {},
     "output_type": "display_data"
    }
   ],
   "source": [
    "d = data1['Country'].value_counts()[:10]\n",
    "d.plot(kind='pie')\n",
    "plt.show()"
   ]
  }
 ],
 "metadata": {
  "kernelspec": {
   "display_name": "cv4",
   "language": "python",
   "name": "cv4"
  },
  "language_info": {
   "codemirror_mode": {
    "name": "ipython",
    "version": 3
   },
   "file_extension": ".py",
   "mimetype": "text/x-python",
   "name": "python",
   "nbconvert_exporter": "python",
   "pygments_lexer": "ipython3",
   "version": "3.6.7"
  }
 },
 "nbformat": 4,
 "nbformat_minor": 2
}
